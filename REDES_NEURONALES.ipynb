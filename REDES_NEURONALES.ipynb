{
  "nbformat": 4,
  "nbformat_minor": 0,
  "metadata": {
    "colab": {
      "provenance": [],
      "authorship_tag": "ABX9TyO6zoI3Qd4uEp64FpCd6LDb",
      "include_colab_link": true
    },
    "kernelspec": {
      "name": "python3",
      "display_name": "Python 3"
    },
    "language_info": {
      "name": "python"
    }
  },
  "cells": [
    {
      "cell_type": "markdown",
      "metadata": {
        "id": "view-in-github",
        "colab_type": "text"
      },
      "source": [
        "<a href=\"https://colab.research.google.com/github/HenryU20201C579/AED-20212/blob/main/REDES_NEURONALES.ipynb\" target=\"_parent\"><img src=\"https://colab.research.google.com/assets/colab-badge.svg\" alt=\"Open In Colab\"/></a>"
      ]
    },
    {
      "cell_type": "code",
      "execution_count": 19,
      "metadata": {
        "id": "KtZk26JP4-Wb"
      },
      "outputs": [],
      "source": [
        "from numpy import array, array_equal, dot, where\n",
        "import pandas as np\n",
        "import matplotlib.pyplot as plt\n",
        "import random"
      ]
    },
    {
      "cell_type": "markdown",
      "source": [
        "Tabla AND\n",
        "\n",
        "![](https://eduardopayan93.files.wordpress.com/2014/08/tablaand_08309.jpg)"
      ],
      "metadata": {
        "id": "SkC9f-uE5dNK"
      }
    },
    {
      "cell_type": "code",
      "source": [
        "input = np.array([[0, 0], [0, 1], [1, 0], [1, 1]])\n",
        "output = np.array([[0], [0], [0], [1]])\n",
        "input, output"
      ],
      "metadata": {
        "id": "FZKxtRIn5IuR",
        "colab": {
          "base_uri": "https://localhost:8080/"
        },
        "outputId": "6046f548-6514-4048-ff9d-102e52afff04"
      },
      "execution_count": 29,
      "outputs": [
        {
          "output_type": "execute_result",
          "data": {
            "text/plain": [
              "(<PandasArray>\n",
              " [[0, 0], [0, 1], [1, 0], [1, 1]]\n",
              " Length: 4, dtype: object,\n",
              " <PandasArray>\n",
              " [[0], [0], [0], [1]]\n",
              " Length: 4, dtype: object)"
            ]
          },
          "metadata": {},
          "execution_count": 29
        }
      ]
    },
    {
      "cell_type": "code",
      "source": [
        "pesos = np.array([[random.random()], [random.random()]])\n",
        "pesos"
      ],
      "metadata": {
        "colab": {
          "base_uri": "https://localhost:8080/"
        },
        "id": "XKp8DtcN7Smn",
        "outputId": "9aa9a5a8-5319-4712-8b60-5498a751a47c"
      },
      "execution_count": 28,
      "outputs": [
        {
          "output_type": "execute_result",
          "data": {
            "text/plain": [
              "<PandasArray>\n",
              "[[0.30211778607544504], [0.3087608269777089]]\n",
              "Length: 2, dtype: object"
            ]
          },
          "metadata": {},
          "execution_count": 28
        }
      ]
    },
    {
      "cell_type": "code",
      "source": [],
      "metadata": {
        "id": "LyUly3uO--r6"
      },
      "execution_count": null,
      "outputs": []
    }
  ]
}